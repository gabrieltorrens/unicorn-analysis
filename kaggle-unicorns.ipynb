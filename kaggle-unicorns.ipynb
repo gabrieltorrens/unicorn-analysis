{
  "cells": [
    {
      "cell_type": "markdown",
      "metadata": {
        "id": "7pLbcMS5D2gr"
      },
      "source": [
        "**README**\n",
        "\n",
        "Gabriel Torrens\\\n",
        "\\\n",
        "Our dataset comes from: https://www.kaggle.com/datasets/ramjasmaurya/unicorn-startups.\\\n",
        "\\\n",
        "Unicorns are private companies with a valuation over $1 billion, we will analyze them. This data is sourced from CBInsights and is current as of September 1st, 2022."
      ]
    },
    {
      "cell_type": "code",
      "execution_count": null,
      "metadata": {
        "colab": {
          "base_uri": "https://localhost:8080/"
        },
        "id": "lNoMUAMDBvBg",
        "outputId": "51920e90-f5a4-4940-82a9-b403a6c5124e"
      },
      "outputs": [
        {
          "name": "stdout",
          "output_type": "stream",
          "text": [
            "Looking in indexes: https://pypi.org/simple, https://us-python.pkg.dev/colab-wheels/public/simple/\n",
            "Requirement already satisfied: kaggle in /usr/local/lib/python3.7/dist-packages (1.5.12)\n",
            "Requirement already satisfied: tqdm in /usr/local/lib/python3.7/dist-packages (from kaggle) (4.64.1)\n",
            "Requirement already satisfied: requests in /usr/local/lib/python3.7/dist-packages (from kaggle) (2.23.0)\n",
            "Requirement already satisfied: certifi in /usr/local/lib/python3.7/dist-packages (from kaggle) (2022.9.24)\n",
            "Requirement already satisfied: python-slugify in /usr/local/lib/python3.7/dist-packages (from kaggle) (6.1.2)\n",
            "Requirement already satisfied: python-dateutil in /usr/local/lib/python3.7/dist-packages (from kaggle) (2.8.2)\n",
            "Requirement already satisfied: six>=1.10 in /usr/local/lib/python3.7/dist-packages (from kaggle) (1.15.0)\n",
            "Requirement already satisfied: urllib3 in /usr/local/lib/python3.7/dist-packages (from kaggle) (1.24.3)\n",
            "Requirement already satisfied: text-unidecode>=1.3 in /usr/local/lib/python3.7/dist-packages (from python-slugify->kaggle) (1.3)\n",
            "Requirement already satisfied: idna<3,>=2.5 in /usr/local/lib/python3.7/dist-packages (from requests->kaggle) (2.10)\n",
            "Requirement already satisfied: chardet<4,>=3.0.2 in /usr/local/lib/python3.7/dist-packages (from requests->kaggle) (3.0.4)\n",
            "env: KAGGLE_USERNAME=gabrieltorrens\n",
            "env: KAGGLE_KEY=aeec306da3e218c51af38ce4a3d6b7dd\n",
            "Downloading unicorn-startups.zip to /content\n",
            "  0% 0.00/36.8k [00:00<?, ?B/s]\n",
            "100% 36.8k/36.8k [00:00<00:00, 2.70MB/s]\n",
            "Archive:  unicorn-startups.zip\n",
            "  inflating: unicorns till sep 2022.csv  \n"
          ]
        }
      ],
      "source": [
        "# Importing libraries\n",
        "import pandas as pd\n",
        "import matplotlib.pyplot as plt\n",
        "from matplotlib import rcParams\n",
        "\n",
        "# Install Kaggle, authenticate, and retrieve dataset\n",
        "!pip install kaggle \n",
        "%env KAGGLE_USERNAME=xxx\n",
        "%env KAGGLE_KEY=xxx\n",
        "!kaggle datasets download -d ramjasmaurya/unicorn-startups --force\n",
        "!unzip -o unicorn-startups.zip\n",
        "\n",
        "# Loading dataset into a dataframe. \n",
        "df = pd.read_csv(\"unicorns till sep 2022.csv\", header=0)\n",
        "\n",
        "# Dataframe info:\n",
        "# print(df.shape)\n",
        "# print(df.columns)\n",
        "# print(df.dtypes)\n",
        "\n",
        "# Making column names lower case and removing spaces  \n",
        "df.columns = [i.lower() for i in df]\n",
        "df.columns = df.columns.str.replace(\" \", \"-\")\n",
        "df.rename(columns={\"city\\xa0\":\"city\"}, inplace=True) #removing nonbreaking trailing space\n",
        "df['valuation-($b)'] = df['valuation-($b)'].str.replace('$', '', regex=False) #remove dollar sign from valuations\n",
        "\n",
        "# Checking dataframe:\n",
        "# print(df.columns)\n",
        "# print(df.head(5))\n"
      ]
    },
    {
      "cell_type": "markdown",
      "metadata": {
        "id": "W2sfv8BeBvBi"
      },
      "source": [
        "#Our data dictionary:\n",
        "\n",
        "| Column Name | Format | Description |\n",
        "|---|---|---|\n",
        "| company | Text | Company Name |\n",
        "| valuation-($b) | Numeric | Valuation as of 1/1/2022 |\n",
        "| country | Text | Company's home country |\n",
        "| industry | Text | Company's industry |\n",
        "| year | Numeric | Year the company became a unicorn |"
      ]
    },
    {
      "cell_type": "code",
      "execution_count": null,
      "metadata": {
        "id": "79SmcUzSBvBj"
      },
      "outputs": [],
      "source": [
        "# Removing unneeded columns \n",
        "unicorns = df.drop(['investors', 'city'], axis=1).copy()\n",
        "\n",
        "# Replacing 'date joined' with 'year' for easier analysis\n",
        "unicorns['year'] = pd.to_datetime(unicorns['date-joined']).dt.year # Convert 'date-joined' to datetime and get year\n",
        "unicorns = unicorns.drop(['date-joined'], axis=1)\n",
        "\n",
        "# Convert valuation type to float\n",
        "unicorns['valuation-($b)'] = unicorns['valuation-($b)'].astype(float)\n",
        "\n",
        "# For troubleshooting:\n",
        "# print(unicorns.columns)\n",
        "# print(unicorns.dtypes)\n",
        "# print(unicorns.head(5))\n"
      ]
    },
    {
      "cell_type": "markdown",
      "metadata": {
        "id": "psRAijK8BvBj"
      },
      "source": [
        "#Computing summary statistics:"
      ]
    },
    {
      "cell_type": "code",
      "execution_count": null,
      "metadata": {
        "colab": {
          "base_uri": "https://localhost:8080/"
        },
        "id": "NvPvFbdsBvBj",
        "outputId": "7003c9f0-b547-48d3-8a60-1ea3008a464b"
      },
      "outputs": [
        {
          "name": "stdout",
          "output_type": "stream",
          "text": [
            "The top 10 countries by number of unicorns are:\n",
            "United States     636\n",
            "China             174\n",
            "India              70\n",
            "United Kingdom     46\n",
            "Germany            29\n",
            "France             24\n",
            "Israel             22\n",
            "Canada             19\n",
            "Brazil             17\n",
            "South Korea        17\n"
          ]
        }
      ],
      "source": [
        "# Number of startups per country, largest 10 countries by value count\n",
        "country_unicorns = unicorns['country'].value_counts().nlargest(10).to_string()\n",
        "print(f\"The top 10 countries by number of unicorns are:\\n{country_unicorns}\")"
      ]
    },
    {
      "cell_type": "code",
      "execution_count": null,
      "metadata": {
        "colab": {
          "base_uri": "https://localhost:8080/"
        },
        "id": "q3spxUE1BvBk",
        "outputId": "6199ac8b-acb7-462d-e53a-06e4a5e8b866"
      },
      "outputs": [
        {
          "name": "stdout",
          "output_type": "stream",
          "text": [
            "The top 10 countries by total valuations (in $billions) are:\n",
            "United States     2069.89\n",
            "China              678.59\n",
            "United Kingdom     205.45\n",
            "India              202.92\n",
            "Germany             80.88\n",
            "France              58.42\n",
            "Australia           54.40\n",
            "Canada              49.23\n",
            "Israel              48.02\n",
            "Brazil              40.08\n"
          ]
        }
      ],
      "source": [
        "# Total valuation per country, largest 10 countries by sum of valuations\n",
        "country_total_valuation = unicorns.groupby('country')['valuation-($b)'].sum().nlargest(10).sort_values(ascending=False).to_string(header=False)\n",
        "print(f\"The top 10 countries by total valuations (in $billions) are:\\n{country_total_valuation}\")"
      ]
    },
    {
      "cell_type": "code",
      "execution_count": null,
      "metadata": {
        "colab": {
          "base_uri": "https://localhost:8080/"
        },
        "id": "EA2w7A0GBvBk",
        "outputId": "83a72dd3-5efc-4156-9baa-bd01cb504903"
      },
      "outputs": [
        {
          "name": "stdout",
          "output_type": "stream",
          "text": [
            "The top 10 countries by mean valuation (in $billions) are:\n",
            "Bahamas           32.00\n",
            "Seychelles        10.00\n",
            "Australia          6.80\n",
            "Turkey             5.26\n",
            "Estonia            4.95\n",
            "United Kingdom     4.47\n",
            "Indonesia          4.16\n",
            "China              3.90\n",
            "Austria            3.80\n",
            "Denmark            3.35\n"
          ]
        }
      ],
      "source": [
        "# Countries by mean valuation, largest 10 countries by mean valuations\n",
        "country_mean_valuation = unicorns.groupby(['country'])['valuation-($b)'].mean().round(2).nlargest(10).sort_values(ascending=False).to_string(header=False)\n",
        "print(f\"The top 10 countries by mean valuation (in $billions) are:\\n{country_mean_valuation}\")"
      ]
    },
    {
      "cell_type": "code",
      "execution_count": null,
      "metadata": {
        "colab": {
          "base_uri": "https://localhost:8080/"
        },
        "id": "7FT-Ar9KBvBk",
        "outputId": "495dd64b-f0bb-4167-d9d2-df5ef9c815b6"
      },
      "outputs": [
        {
          "name": "stdout",
          "output_type": "stream",
          "text": [
            "The top 10 industries by number of unicorns are:\n",
            "Fintech                                239\n",
            "Internet software & services           224\n",
            "E-commerce & direct-to-consumer        103\n",
            "Health                                  94\n",
            "Artificial intelligence                 74\n",
            "Supply chain, logistics, & delivery     65\n",
            "Other                                   65\n",
            "Cybersecurity                           58\n",
            "Data management & analytics             45\n",
            "Auto & transportation                   40\n",
            "\n"
          ]
        }
      ],
      "source": [
        "# Number of unicorns per industry, largest 10 industries by value count\n",
        "industry_count = unicorns['industry'].value_counts().nlargest(10).to_string()\n",
        "print(f\"The top 10 industries by number of unicorns are:\\n{industry_count}\\n\")"
      ]
    },
    {
      "cell_type": "markdown",
      "metadata": {
        "id": "KOxojlC7BvBl"
      },
      "source": [
        "#Decacorns are firms with over a $10 billion valuation. We will explore decacorn data by plotting.\n"
      ]
    },
    {
      "cell_type": "code",
      "execution_count": null,
      "metadata": {
        "colab": {
          "base_uri": "https://localhost:8080/",
          "height": 302
        },
        "id": "sTL8mvUQBvBl",
        "outputId": "ed29e3c2-637b-4774-b61a-5c73543fdc18"
      },
      "outputs": [
        {
          "data": {
            "image/png": "[encoded data removed]",
            "text/plain": [
              "<Figure size 432x288 with 1 Axes>"
            ]
          },
          "metadata": {
            "needs_background": "light"
          },
          "output_type": "display_data"
        }
      ],
      "source": [
        "# Find our decacorns\n",
        "decacorns = unicorns.loc[(unicorns['valuation-($b)']>=10)].copy()\n",
        "\n",
        "# Creating a chart to see when decacorns first made the CBInsights list\n",
        "\n",
        "# Adding a source below the graph\n",
        "fig = plt.figure()\n",
        "fig.text(x=0, y=0, s='Source: CBInsights (2022)', horizontalalignment='left',color='#524939')\n",
        "\n",
        "# Plotting the series of count per year\n",
        "decacorns[\"year\"].value_counts(sort=False).sort_index().plot(kind=\"bar\", title=\"When Did the Decacorns Make Their First Billion?\", color=\"#fcba03\", edgecolor=\"white\", rot=0);\n",
        "plt.ylabel(\"Count\")\n",
        "plt.show()"
      ]
    },
    {
      "cell_type": "code",
      "execution_count": null,
      "metadata": {
        "colab": {
          "base_uri": "https://localhost:8080/",
          "height": 302
        },
        "id": "fkZ583afBvBl",
        "outputId": "bd1276b4-f2ef-40ff-903e-f5391eafac84"
      },
      "outputs": [
        {
          "data": {
            "image/png": "[encoded data removed]",
            "text/plain": [
              "<Figure size 432x288 with 1 Axes>"
            ]
          },
          "metadata": {
            "needs_background": "light"
          },
          "output_type": "display_data"
        }
      ],
      "source": [
        "# How much did each industry raise in 2018?\n",
        "\n",
        "# Find our 2018 decacorns\n",
        "decacorns2018 = decacorns.loc[decacorns['year']==2018].reset_index(drop=True).copy()\n",
        "\n",
        "# Adding a source below the graph\n",
        "fig = plt.figure()\n",
        "fig.text(x=-0.3, y=0, s='Source: CBInsights (2022)', horizontalalignment='left',color='#524939')\n",
        "\n",
        "# Set up Axes\n",
        "ax = fig.add_subplot(111)\n",
        "ax.set_title('What Industries Made Decacorns in 2018?')\n",
        "ax.set_xlabel('Industry Valuation in $Billions')\n",
        "\n",
        "# Plot the data\n",
        "ax.barh(decacorns2018[\"industry\"], decacorns2018[\"valuation-($b)\"], color = '#fcba03')\n",
        "\n",
        "# Show the plot\n",
        "plt.show()"
      ]
    },
    {
      "cell_type": "code",
      "execution_count": null,
      "metadata": {
        "colab": {
          "base_uri": "https://localhost:8080/"
        },
        "id": "zcWH0tsrBvBl",
        "outputId": "22f68602-2876-4b46-b4f9-e4479f978e79"
      },
      "outputs": [
        {
          "name": "stdout",
          "output_type": "stream",
          "text": [
            "                   company  valuation-($b)         country  \\\n",
            "0                    SHEIN           100.0           China   \n",
            "1                    Canva            40.0       Australia   \n",
            "2                  Revolut            33.0  United Kingdom   \n",
            "3               Epic Games            31.5   United States   \n",
            "4                  Discord            15.0   United States   \n",
            "5                    Plaid            13.5   United States   \n",
            "6                  Celonis            13.0         Germany   \n",
            "7           Devoted Health            12.6   United States   \n",
            "8                     Brex            12.3   United States   \n",
            "9     Bitmain Technologies            12.0           China   \n",
            "10  Biosplice Therapeutics            12.0   United States   \n",
            "11                Airtable            11.7   United States   \n",
            "12                  Swiggy            10.7           India   \n",
            "13                Talkdesk            10.0   United States   \n",
            "\n",
            "                               industry  year  \n",
            "0       E-commerce & direct-to-consumer  2018  \n",
            "1          Internet software & services  2018  \n",
            "2                               Fintech  2018  \n",
            "3                                 Other  2018  \n",
            "4          Internet software & services  2018  \n",
            "5                               Fintech  2018  \n",
            "6           Data management & analytics  2018  \n",
            "7                                Health  2018  \n",
            "8                               Fintech  2018  \n",
            "9                              Hardware  2018  \n",
            "10                               Health  2018  \n",
            "11         Internet software & services  2018  \n",
            "12  Supply chain, logistics, & delivery  2018  \n",
            "13         Internet software & services  2018  \n"
          ]
        }
      ],
      "source": [
        "# BONUS: Who are the 2018 decacorns?\n",
        "print(decacorns2018)"
      ]
    }
  ],
  "metadata": {
    "colab": {
      "provenance": []
    },
    "kernelspec": {
      "display_name": "Python 3.10.7 64-bit",
      "language": "python",
      "name": "python3"
    },
    "language_info": {
      "codemirror_mode": {
        "name": "ipython",
        "version": 3
      },
      "file_extension": ".py",
      "mimetype": "text/x-python",
      "name": "python",
      "nbconvert_exporter": "python",
      "pygments_lexer": "ipython3",
      "version": "3.10.7"
    },
    "orig_nbformat": 4,
    "vscode": {
      "interpreter": {
        "hash": "fdf50c59a3718c64a36bf98654194132f08d748f19c28ac43fd97afecbda4697"
      }
    }
  },
  "nbformat": 4,
  "nbformat_minor": 0
}
